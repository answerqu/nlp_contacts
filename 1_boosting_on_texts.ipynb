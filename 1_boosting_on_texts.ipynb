{
 "cells": [
  {
   "cell_type": "code",
   "execution_count": 1,
   "id": "082ecf0b",
   "metadata": {},
   "outputs": [],
   "source": [
    "%reload_ext autoreload\n",
    "%autoreload 2"
   ]
  },
  {
   "cell_type": "code",
   "execution_count": 2,
   "id": "d0bec2d5",
   "metadata": {},
   "outputs": [],
   "source": [
    "import pandas as pd\n",
    "import numpy as np\n",
    "import matplotlib.pyplot as plt\n",
    "import seaborn as sns\n",
    "from tqdm import tqdm_notebook as tqdm\n",
    "from IPython.display import display\n",
    "\n",
    "import re\n",
    "import pymorphy2\n",
    "import nltk\n",
    "from nltk.corpus import stopwords\n",
    "import joblib\n",
    "\n",
    "from sklearn.feature_extraction.text import TfidfVectorizer\n",
    "from lightgbm import LGBMClassifier\n",
    "from sklearn.metrics import roc_auc_score\n",
    "\n",
    "import warnings\n",
    "warnings.filterwarnings('ignore')\n",
    "\n",
    "pd.set_option('max_colwidth', 100)"
   ]
  },
  {
   "cell_type": "code",
   "execution_count": null,
   "id": "3ffba6d4",
   "metadata": {},
   "outputs": [],
   "source": [
    "train = pd.read_csv('../data/train.csv')\n",
    "val = pd.read_csv('../data/val.csv')\n",
    "\n",
    "train.shape, val.shape"
   ]
  },
  {
   "cell_type": "code",
   "execution_count": 4,
   "id": "b52d39b3",
   "metadata": {},
   "outputs": [],
   "source": [
    "from custom.text import TextPreprocessor\n",
    "from custom.predict import ModelBoosting"
   ]
  },
  {
   "cell_type": "markdown",
   "id": "38cd7d64",
   "metadata": {},
   "source": [
    "Основной упор был сделан на корректную предобработку текста для извлечения максимальной информативности. Предварительно вручную были проанализированы текста с положительными метками, чтобы понять, как авторы объявлений склонны размещать свои контакты в тексте. Было замечено, что многие пытаются хитрым образом замаскировать текст с помощью промежуточных символов или же номером в форме полного текста. Функция ниже позволяет явно выделять данные номера и переводить их в \"спецстроки\", которые определяются длиной последовательности цифр и начальной цифрой.\n",
    "\n",
    "Также были рассмотрены тексты с сайтами, никами инстаграма/телеграмма, электронной почтой. Эти случаи также были учтены. В виду достаточно затратного по времени применения сложных регулярных выражений к строкам, функции замен были сильно упрощены к концу разработки."
   ]
  },
  {
   "cell_type": "code",
   "execution_count": 5,
   "id": "37856722",
   "metadata": {},
   "outputs": [],
   "source": [
    "preprocess = TextPreprocessor(max_len=400)"
   ]
  },
  {
   "cell_type": "markdown",
   "id": "c50d9309",
   "metadata": {},
   "source": [
    "Любая последовательность цифр приводится к единой строке, определяющейся двумя параметрами: первая цифра, количество цифр. Таким образом удается перевести номера телефонов в один из случаев: <7_digits_11>, <8_digits_11>, <9_digits_10> (это только мобильные номера, функция также позволяет определять и номера, состоящие из 6 цифр). \n",
    "\n",
    "Текст ограничbвается с каждой стороны по 200 слов. Гипотеза в следующем: ключевую информацию для связи с автором обычно не оставляют в середине объявления. Как правило, если текст большой, в середине содержится объемная информация о предлагаемых товарах и услугах. Данный подход позволяет немного снизить скорость предобработки. "
   ]
  },
  {
   "cell_type": "code",
   "execution_count": null,
   "id": "840968c5",
   "metadata": {},
   "outputs": [],
   "source": [
    "train = preprocess.full_text_preprocessing(train)"
   ]
  },
  {
   "cell_type": "code",
   "execution_count": 7,
   "id": "936a5348",
   "metadata": {},
   "outputs": [
    {
     "name": "stdout",
     "output_type": "stream",
     "text": [
      "CPU times: user 14.7 s, sys: 38.8 ms, total: 14.7 s\n",
      "Wall time: 14.7 s\n"
     ]
    }
   ],
   "source": [
    "%%time\n",
    "val = preprocess.full_text_preprocessing(val)"
   ]
  },
  {
   "cell_type": "code",
   "execution_count": 8,
   "id": "62456ae7",
   "metadata": {},
   "outputs": [],
   "source": [
    "train.to_csv('../../data_dev/train_preproc.csv',index=False)\n",
    "val.to_csv('../../data_dev/val_preproc.csv',index=False)\n",
    "\n",
    "train = pd.read_csv('../../data_dev/train_preproc.csv',lineterminator='\\n')\n",
    "val = pd.read_csv('../../data_dev/val_preproc.csv',lineterminator='\\n')"
   ]
  },
  {
   "cell_type": "code",
   "execution_count": 11,
   "id": "60298c9c",
   "metadata": {},
   "outputs": [],
   "source": [
    "train['normalized_text'] = train['normalized_text'].fillna('')\n",
    "val['normalized_text'] = val['normalized_text'].fillna('')"
   ]
  },
  {
   "cell_type": "markdown",
   "id": "d67a79e3",
   "metadata": {},
   "source": [
    "Базовая модель является объединением Tfidf преобразования и бустинга lightgbm. Дополнительно можно было бы рассмотреть подбор гиперпараметров и отбор признаков, но в данной итерации это было пропущено."
   ]
  },
  {
   "cell_type": "code",
   "execution_count": 12,
   "id": "2dea7834",
   "metadata": {},
   "outputs": [],
   "source": [
    "from sklearn.model_selection import train_test_split\n",
    "train, train_val = train_test_split(train, test_size=0.2, random_state=42)"
   ]
  },
  {
   "cell_type": "code",
   "execution_count": 14,
   "id": "28db9795",
   "metadata": {},
   "outputs": [],
   "source": [
    "from sklearn.feature_extraction.text import TfidfVectorizer\n",
    "from lightgbm import LGBMClassifier\n",
    "\n",
    "tfidf = TfidfVectorizer(max_features=2000)\n",
    "lgbm = LGBMClassifier(random_state=42, n_estimators=5000, n_jobs=-1)\n",
    "\n",
    "train_tfidf = tfidf.fit_transform(train['normalized_text'])\n",
    "train_val_tfidf = tfidf.transform(train_val['normalized_text'])\n",
    "val_tfidf = tfidf.transform(val['normalized_text'])"
   ]
  },
  {
   "cell_type": "code",
   "execution_count": 15,
   "id": "206e9cc8",
   "metadata": {},
   "outputs": [
    {
     "name": "stdout",
     "output_type": "stream",
     "text": [
      "[250]\tvalid_0's auc: 0.963624\tvalid_0's binary_logloss: 0.176687\n",
      "[500]\tvalid_0's auc: 0.96633\tvalid_0's binary_logloss: 0.16974\n",
      "[750]\tvalid_0's auc: 0.967646\tvalid_0's binary_logloss: 0.166165\n",
      "[1000]\tvalid_0's auc: 0.968473\tvalid_0's binary_logloss: 0.163689\n",
      "[1250]\tvalid_0's auc: 0.969099\tvalid_0's binary_logloss: 0.161982\n",
      "[1500]\tvalid_0's auc: 0.969543\tvalid_0's binary_logloss: 0.160603\n",
      "[1750]\tvalid_0's auc: 0.969896\tvalid_0's binary_logloss: 0.159566\n",
      "[2000]\tvalid_0's auc: 0.970163\tvalid_0's binary_logloss: 0.15869\n",
      "[2250]\tvalid_0's auc: 0.970347\tvalid_0's binary_logloss: 0.157972\n",
      "[2500]\tvalid_0's auc: 0.97052\tvalid_0's binary_logloss: 0.1573\n",
      "[2750]\tvalid_0's auc: 0.970625\tvalid_0's binary_logloss: 0.156864\n",
      "[3000]\tvalid_0's auc: 0.970774\tvalid_0's binary_logloss: 0.156408\n",
      "[3250]\tvalid_0's auc: 0.970906\tvalid_0's binary_logloss: 0.156118\n"
     ]
    },
    {
     "data": {
      "text/html": [
       "<style>#sk-container-id-1 {color: black;background-color: white;}#sk-container-id-1 pre{padding: 0;}#sk-container-id-1 div.sk-toggleable {background-color: white;}#sk-container-id-1 label.sk-toggleable__label {cursor: pointer;display: block;width: 100%;margin-bottom: 0;padding: 0.3em;box-sizing: border-box;text-align: center;}#sk-container-id-1 label.sk-toggleable__label-arrow:before {content: \"▸\";float: left;margin-right: 0.25em;color: #696969;}#sk-container-id-1 label.sk-toggleable__label-arrow:hover:before {color: black;}#sk-container-id-1 div.sk-estimator:hover label.sk-toggleable__label-arrow:before {color: black;}#sk-container-id-1 div.sk-toggleable__content {max-height: 0;max-width: 0;overflow: hidden;text-align: left;background-color: #f0f8ff;}#sk-container-id-1 div.sk-toggleable__content pre {margin: 0.2em;color: black;border-radius: 0.25em;background-color: #f0f8ff;}#sk-container-id-1 input.sk-toggleable__control:checked~div.sk-toggleable__content {max-height: 200px;max-width: 100%;overflow: auto;}#sk-container-id-1 input.sk-toggleable__control:checked~label.sk-toggleable__label-arrow:before {content: \"▾\";}#sk-container-id-1 div.sk-estimator input.sk-toggleable__control:checked~label.sk-toggleable__label {background-color: #d4ebff;}#sk-container-id-1 div.sk-label input.sk-toggleable__control:checked~label.sk-toggleable__label {background-color: #d4ebff;}#sk-container-id-1 input.sk-hidden--visually {border: 0;clip: rect(1px 1px 1px 1px);clip: rect(1px, 1px, 1px, 1px);height: 1px;margin: -1px;overflow: hidden;padding: 0;position: absolute;width: 1px;}#sk-container-id-1 div.sk-estimator {font-family: monospace;background-color: #f0f8ff;border: 1px dotted black;border-radius: 0.25em;box-sizing: border-box;margin-bottom: 0.5em;}#sk-container-id-1 div.sk-estimator:hover {background-color: #d4ebff;}#sk-container-id-1 div.sk-parallel-item::after {content: \"\";width: 100%;border-bottom: 1px solid gray;flex-grow: 1;}#sk-container-id-1 div.sk-label:hover label.sk-toggleable__label {background-color: #d4ebff;}#sk-container-id-1 div.sk-serial::before {content: \"\";position: absolute;border-left: 1px solid gray;box-sizing: border-box;top: 0;bottom: 0;left: 50%;z-index: 0;}#sk-container-id-1 div.sk-serial {display: flex;flex-direction: column;align-items: center;background-color: white;padding-right: 0.2em;padding-left: 0.2em;position: relative;}#sk-container-id-1 div.sk-item {position: relative;z-index: 1;}#sk-container-id-1 div.sk-parallel {display: flex;align-items: stretch;justify-content: center;background-color: white;position: relative;}#sk-container-id-1 div.sk-item::before, #sk-container-id-1 div.sk-parallel-item::before {content: \"\";position: absolute;border-left: 1px solid gray;box-sizing: border-box;top: 0;bottom: 0;left: 50%;z-index: -1;}#sk-container-id-1 div.sk-parallel-item {display: flex;flex-direction: column;z-index: 1;position: relative;background-color: white;}#sk-container-id-1 div.sk-parallel-item:first-child::after {align-self: flex-end;width: 50%;}#sk-container-id-1 div.sk-parallel-item:last-child::after {align-self: flex-start;width: 50%;}#sk-container-id-1 div.sk-parallel-item:only-child::after {width: 0;}#sk-container-id-1 div.sk-dashed-wrapped {border: 1px dashed gray;margin: 0 0.4em 0.5em 0.4em;box-sizing: border-box;padding-bottom: 0.4em;background-color: white;}#sk-container-id-1 div.sk-label label {font-family: monospace;font-weight: bold;display: inline-block;line-height: 1.2em;}#sk-container-id-1 div.sk-label-container {text-align: center;}#sk-container-id-1 div.sk-container {/* jupyter's `normalize.less` sets `[hidden] { display: none; }` but bootstrap.min.css set `[hidden] { display: none !important; }` so we also need the `!important` here to be able to override the default hidden behavior on the sphinx rendered scikit-learn.org. See: https://github.com/scikit-learn/scikit-learn/issues/21755 */display: inline-block !important;position: relative;}#sk-container-id-1 div.sk-text-repr-fallback {display: none;}</style><div id=\"sk-container-id-1\" class=\"sk-top-container\"><div class=\"sk-text-repr-fallback\"><pre>LGBMClassifier(n_estimators=5000, random_state=42)</pre><b>In a Jupyter environment, please rerun this cell to show the HTML representation or trust the notebook. <br />On GitHub, the HTML representation is unable to render, please try loading this page with nbviewer.org.</b></div><div class=\"sk-container\" hidden><div class=\"sk-item\"><div class=\"sk-estimator sk-toggleable\"><input class=\"sk-toggleable__control sk-hidden--visually\" id=\"sk-estimator-id-1\" type=\"checkbox\" checked><label for=\"sk-estimator-id-1\" class=\"sk-toggleable__label sk-toggleable__label-arrow\">LGBMClassifier</label><div class=\"sk-toggleable__content\"><pre>LGBMClassifier(n_estimators=5000, random_state=42)</pre></div></div></div></div></div>"
      ],
      "text/plain": [
       "LGBMClassifier(n_estimators=5000, random_state=42)"
      ]
     },
     "execution_count": 15,
     "metadata": {},
     "output_type": "execute_result"
    }
   ],
   "source": [
    "lgbm.fit(train_tfidf, train.is_bad, eval_set=[(train_val_tfidf, train_val.is_bad)],\n",
    "         early_stopping_rounds=50, eval_metric='auc', verbose=250)"
   ]
  },
  {
   "cell_type": "code",
   "execution_count": 18,
   "id": "47fab390",
   "metadata": {},
   "outputs": [
    {
     "data": {
      "text/plain": [
       "(0.99375236477077, 0.9709343641279251, 0.9596928118254923)"
      ]
     },
     "execution_count": 18,
     "metadata": {},
     "output_type": "execute_result"
    }
   ],
   "source": [
    "(roc_auc_score(train.is_bad, lgbm.predict_proba(train_tfidf).T[1]),\n",
    " roc_auc_score(train_val.is_bad, lgbm.predict_proba(train_val_tfidf).T[1]),\n",
    " roc_auc_score(val.is_bad, lgbm.predict_proba(val_tfidf).T[1]))"
   ]
  },
  {
   "cell_type": "code",
   "execution_count": 16,
   "id": "4c66551d",
   "metadata": {},
   "outputs": [],
   "source": [
    "s = pd.Series(dict(zip(tfidf.get_feature_names(), lgbm.feature_importances_))).sort_values(ascending=False)"
   ]
  },
  {
   "cell_type": "code",
   "execution_count": 17,
   "id": "1de17b1d",
   "metadata": {},
   "outputs": [
    {
     "data": {
      "text/plain": [
       "9_digits_10    1241\n",
       "звонить        1044\n",
       "8_digits_11    1010\n",
       "состояние       843\n",
       "телефон         798\n",
       "размер          762\n",
       "новый           702\n",
       "номер           664\n",
       "тело            559\n",
       "продать         558\n",
       "цена            556\n",
       "ru              542\n",
       "3_digits_1      502\n",
       "работа          422\n",
       "писать          402\n",
       "9_digits_3      400\n",
       "хороший         399\n",
       "сайт            393\n",
       "наличие         388\n",
       "продавать       383\n",
       "dtype: int32"
      ]
     },
     "execution_count": 17,
     "metadata": {},
     "output_type": "execute_result"
    }
   ],
   "source": [
    "s.head(20)"
   ]
  },
  {
   "cell_type": "code",
   "execution_count": 20,
   "id": "e70e20f6",
   "metadata": {},
   "outputs": [],
   "source": [
    "val['score'] = lgbm.predict_proba(val_tfidf).T[1]"
   ]
  },
  {
   "cell_type": "code",
   "execution_count": 22,
   "id": "bb8a4c81",
   "metadata": {},
   "outputs": [
    {
     "data": {
      "text/plain": [
       "(0.9009174311926605, 0.7400150715900528)"
      ]
     },
     "execution_count": 22,
     "metadata": {},
     "output_type": "execute_result"
    }
   ],
   "source": [
    "from sklearn.metrics import precision_score, recall_score\n",
    "thr=0.65\n",
    "precision_score(val.is_bad, val.score>thr), recall_score(val.is_bad, val.score>thr)"
   ]
  },
  {
   "cell_type": "code",
   "execution_count": 23,
   "id": "347a7f1c",
   "metadata": {},
   "outputs": [
    {
     "data": {
      "text/plain": [
       "0.9642637091805298"
      ]
     },
     "execution_count": 23,
     "metadata": {},
     "output_type": "execute_result"
    }
   ],
   "source": [
    "val.sort_values(by='score', ascending=False).head(int(len(val)*0.1)).is_bad.mean()"
   ]
  },
  {
   "cell_type": "markdown",
   "id": "cc3a1cbf",
   "metadata": {},
   "source": [
    "# Вторая задача"
   ]
  },
  {
   "cell_type": "markdown",
   "id": "21078e36",
   "metadata": {},
   "source": [
    "При попытке решить вторую задачу стало понятно, что подход с т.н. полуручной обработкой текста не покрывает все возможные варианты. Трудности возникли именно из-за большого количества функций: полностью теряется возможная 1-1 связь между исходными и конечными текстами. \n",
    "\n",
    "На самом деле, около трети проблемных объявлений можно выделить с IoU --> 1. Достаточно часто контакт оставляют в самом конце текста. У нас уже есть инфрмация о том, какой тип номера представлен в обработанном тексте, нужно просто правильно подсчитать отступы с учетом имющихся промежуточных символов, не являющихся цифрами.\n",
    "\n",
    "Начало возможной функции представлено ниже."
   ]
  },
  {
   "cell_type": "code",
   "execution_count": null,
   "id": "464709ee",
   "metadata": {},
   "outputs": [],
   "source": [
    "def find_idx(df):\n",
    "    df['first_idx'] = None\n",
    "    df['last_idx'] = None\n",
    "    df['len_str_txt'] = df.text_w_spaces.str.len()\n",
    "    ends_phone = df[df.normalized_text.str.endswith('<phone>')]\n",
    "    ends_8_digits_11 = df[df.normalized_text.str.endswith('<8_digits_11>')]\n",
    "    ends_7_digits_11 = df[df.normalized_text.str.endswith('<7_digits_11>')]\n",
    "    ends_9_digits_10 = df[df.normalized_text.str.endswith('<9_digits_10>')]\n",
    "    \n",
    "    ends_phone['last_idx'] = ends_phone.len_str_txt-1 #не учитываются точки в конец и тд\n",
    "    ends_phone['first_idx'] = ends_phone.len_str_txt-13\n",
    "    \n",
    "    ends_8_digits_11['last_idx'] = ends_phone.len_str_txt-1 #не учитываются точки в конец и тд\n",
    "    ends_8_digits_11['first_idx'] = ends_phone.len_str_txt-13\n",
    "    "
   ]
  },
  {
   "cell_type": "code",
   "execution_count": 24,
   "id": "8814a3c3",
   "metadata": {},
   "outputs": [
    {
     "data": {
      "text/plain": [
       "(3981, 14)"
      ]
     },
     "execution_count": 24,
     "metadata": {},
     "output_type": "execute_result"
    }
   ],
   "source": [
    "val_bad = val[val.is_bad==1]\n",
    "val_bad.shape"
   ]
  },
  {
   "cell_type": "code",
   "execution_count": 25,
   "id": "6f7587df",
   "metadata": {},
   "outputs": [
    {
     "data": {
      "text/plain": [
       "(1690, 3)"
      ]
     },
     "execution_count": 25,
     "metadata": {},
     "output_type": "execute_result"
    }
   ],
   "source": [
    "\n",
    "val_bad[val_bad.normalized_text.str.endswith('<phone>') |\\\n",
    "    val_bad.normalized_text.str.endswith('<8_digits_11>') |\\\n",
    "    val_bad.normalized_text.str.endswith('<7_digits_11>') |\\\n",
    "    val_bad.normalized_text.str.endswith('<9_digits_10>')][['text_w_spaces', 'normalized_text', 'score']].shape"
   ]
  },
  {
   "cell_type": "code",
   "execution_count": 26,
   "id": "5690428b",
   "metadata": {},
   "outputs": [
    {
     "data": {
      "text/plain": [
       "0.42451645315247427"
      ]
     },
     "execution_count": 26,
     "metadata": {},
     "output_type": "execute_result"
    }
   ],
   "source": [
    "1690/3981"
   ]
  },
  {
   "cell_type": "markdown",
   "id": "901e6a95",
   "metadata": {},
   "source": [
    "Однако все же такой данный подход, в силу ограничения по времени, было решено оставить. \n",
    "\n",
    "На текущий момент решение второй задачи на возможной второй попытке видится следующим:\n",
    "* Не делать сильный упор на предобработку, а построить НС (здесь больше видится сверточная 1d, так как понимание контекста из прошлого в текста здесь кажется не таким важным и хорошие результаты по Tfidf преобразованию это подтвердили). Примерные наработки на предобработанном тексте представлены в ноутбуках cnn.ipynb, rnn.ipynb.\n",
    "* Использовать Subwords Tokenization, чтобы погрешность при определении границ была ниже. Еще один аргумент за данный подход: низкая предиктивная способность сеток на тех же токенах (представлено в ноутбуках) по сравнению с бустингом. Возможно из-за искуственного сокращения информации на этапе предобработки сетям оказалось недостаточно просто факта наличия ключевых токенов, и нужно дать больше вариативности на вход моделям для устойчивого обучения.\n",
    "* После обучения модели применить алгоритмы библиотеки captum (или других библиотек интерпретации) для выделения \"горячих\" зон предложения. Данные зоны и будут определять потенциальный текст контакта.\n",
    "\n",
    "Как ожидаемый итог, потенциальные зоны позволят в среднем получить приемлемый IoU, и при всем при этом попутно решится задача бинарной классификации."
   ]
  },
  {
   "cell_type": "code",
   "execution_count": null,
   "id": "b1a1845d",
   "metadata": {},
   "outputs": [],
   "source": []
  },
  {
   "cell_type": "code",
   "execution_count": null,
   "id": "821017b7",
   "metadata": {},
   "outputs": [],
   "source": []
  },
  {
   "cell_type": "code",
   "execution_count": null,
   "id": "d4429767",
   "metadata": {},
   "outputs": [],
   "source": []
  },
  {
   "cell_type": "code",
   "execution_count": null,
   "id": "631bbcd2",
   "metadata": {},
   "outputs": [],
   "source": []
  },
  {
   "cell_type": "code",
   "execution_count": null,
   "id": "acd71012",
   "metadata": {},
   "outputs": [],
   "source": []
  },
  {
   "cell_type": "code",
   "execution_count": null,
   "id": "42a3d473",
   "metadata": {},
   "outputs": [],
   "source": []
  },
  {
   "cell_type": "raw",
   "id": "778f0a2f",
   "metadata": {},
   "source": [
    "from collections import Counter\n",
    "from itertools import chain\n",
    "\n",
    "train['tokens'] = train.normalized_text.str.split(' ')\n",
    "val['tokens'] = val.normalized_text.str.split(' ')\n",
    "train_val['tokens'] = train_val.normalized_text.str.split(' ')\n",
    "\n",
    "d = Counter(chain(*list(train[train.is_bad==1].tokens.values)))\n",
    "d = dict(d.most_common(5000))\n",
    "d = dict([(v, i) for i, v in enumerate(d)])"
   ]
  }
 ],
 "metadata": {
  "kernelspec": {
   "display_name": "Python 3 (ipykernel)",
   "language": "python",
   "name": "python3"
  },
  "language_info": {
   "codemirror_mode": {
    "name": "ipython",
    "version": 3
   },
   "file_extension": ".py",
   "mimetype": "text/x-python",
   "name": "python",
   "nbconvert_exporter": "python",
   "pygments_lexer": "ipython3",
   "version": "3.8.13"
  }
 },
 "nbformat": 4,
 "nbformat_minor": 5
}
